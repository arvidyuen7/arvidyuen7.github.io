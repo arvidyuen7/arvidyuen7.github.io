{
 "cells": [
  {
   "cell_type": "markdown",
   "metadata": {},
   "source": [
    "# How to Employ Image Recognition from sklearn"
   ]
  },
  {
   "cell_type": "code",
   "execution_count": null,
   "metadata": {},
   "outputs": [],
   "source": [
    "from sklearn import ImageRecognition"
   ]
  },
  {
   "cell_type": "code",
   "execution_count": null,
   "metadata": {},
   "outputs": [],
   "source": [
    "image = Preprocess(orig_image)"
   ]
  },
  {
   "cell_type": "code",
   "execution_count": null,
   "metadata": {},
   "outputs": [],
   "source": [
    "model = build_model(image)"
   ]
  },
  {
   "cell_type": "code",
   "execution_count": null,
   "metadata": {},
   "outputs": [],
   "source": [
    "model.predict(new_image)"
   ]
  },
  {
   "cell_type": "markdown",
   "metadata": {},
   "source": [
    "The math behind this procedure is as follows:\n",
    "    \n",
    "$$X = \\begin{bmatrix} x_{11} & x_{12} \\\\ x_{21} & x_{22} \\end{bmatrix}$$\n",
    "\n",
    "$$Y = X^2 = \\begin{bmatrix} x_{11}^2 & x_{12}^2 \\\\ x_{21}^2 & x_{22}^2 \\end{bmatrix}$$\n",
    "\n",
    "$$ O = \\frac{1}{4} \\sum_{ij} y_{ij} = \\frac{1}{4} \\sum_{ij} x_{ij}^2$$"
   ]
  }
 ],
 "metadata": {
  "kernelspec": {
   "display_name": "Python 3",
   "language": "python",
   "name": "python3"
  },
  "language_info": {
   "codemirror_mode": {
    "name": "ipython",
    "version": 3
   },
   "file_extension": ".py",
   "mimetype": "text/x-python",
   "name": "python",
   "nbconvert_exporter": "python",
   "pygments_lexer": "ipython3",
   "version": "3.7.6"
  }
 },
 "nbformat": 4,
 "nbformat_minor": 4
}
